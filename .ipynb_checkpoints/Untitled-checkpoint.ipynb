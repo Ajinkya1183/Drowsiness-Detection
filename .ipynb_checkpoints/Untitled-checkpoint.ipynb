{
 "cells": [
  {
   "cell_type": "code",
   "execution_count": 2,
   "id": "5d5f6f58",
   "metadata": {},
   "outputs": [],
   "source": [
    "import cv2\n",
    "import numpy"
   ]
  },
  {
   "cell_type": "code",
   "execution_count": 36,
   "id": "15432b89",
   "metadata": {},
   "outputs": [],
   "source": [
    "eye_detector=cv2.CascadeClassifier('haarcascade_eye.xml')"
   ]
  },
  {
   "cell_type": "code",
   "execution_count": 37,
   "id": "6e37fc5d",
   "metadata": {},
   "outputs": [
    {
     "data": {
      "text/plain": [
       "< cv2.CascadeClassifier 000002171A23BF50>"
      ]
     },
     "execution_count": 37,
     "metadata": {},
     "output_type": "execute_result"
    }
   ],
   "source": [
    "eye_detector"
   ]
  },
  {
   "cell_type": "code",
   "execution_count": 53,
   "id": "a4f88ae2",
   "metadata": {},
   "outputs": [],
   "source": [
    "image=cv2.imread(\"test_closed.jpg\")"
   ]
  },
  {
   "cell_type": "code",
   "execution_count": 54,
   "id": "525c200f",
   "metadata": {},
   "outputs": [
    {
     "data": {
      "text/plain": [
       "array([[575, 210, 130, 130],\n",
       "       [726, 242,  93,  93]])"
      ]
     },
     "execution_count": 54,
     "metadata": {},
     "output_type": "execute_result"
    }
   ],
   "source": [
    "eyes_dim=eye_detector.detectMultiScale(image, scaleFactor=1.1,minNeighbors=30)\n",
    "left_eye=((eyes_dim[0,0],eyes_dim[0,1]),(eyes_dim[0,0]+eyes_dim[0,2],eyes_dim[0,1]+eyes_dim[0,3]))\n",
    "right_eye=((eyes_dim[1,0],eyes_dim[1,1]),(eyes_dim[1,0]+eyes_dim[1,2],eyes_dim[1,1]+eyes_dim[1,3]))\n",
    "eyes_dim"
   ]
  },
  {
   "cell_type": "code",
   "execution_count": 55,
   "id": "a381aa9d",
   "metadata": {},
   "outputs": [],
   "source": [
    "image=cv2.rectangle(image, left_eye[0],left_eye[1], (0,255,0), 5)\n",
    "image=cv2.rectangle(image, right_eye[0],right_eye[1], (0,255,0), 5)"
   ]
  },
  {
   "cell_type": "code",
   "execution_count": null,
   "id": "07a3b927",
   "metadata": {},
   "outputs": [],
   "source": [
    "cv2.imshow('Image',image)\n",
    "cv2.waitKey(0)\n",
    "cv2.destroyAllWindows()\n",
    "cv2.waitKey(1)\n"
   ]
  },
  {
   "cell_type": "code",
   "execution_count": null,
   "id": "06aecd28",
   "metadata": {},
   "outputs": [],
   "source": [
    "cap = cv2.VideoCapture(0)"
   ]
  },
  {
   "cell_type": "code",
   "execution_count": null,
   "id": "a0b1123f",
   "metadata": {},
   "outputs": [],
   "source": [
    "while 1:\n",
    "    ret,frame =cap.read() \n",
    "    gray = cv2.cvtColor(frame, cv2.COLOR_BGR2GRAY)    \n",
    "    eyes_dim=eye_detector.detectMultiScale(gray, scaleFactor=1.1,minNeighbors=3)\n",
    "    if len(eyes_dim)>0:\n",
    "        left_eye=((eyes_dim[0,0],eyes_dim[0,1]),(eyes_dim[0,0]+eyes_dim[0,2],eyes_dim[0,1]+eyes_dim[0,3]))\n",
    "    if len(eyes_dim)>1:\n",
    "        right_eye=((eyes_dim[1,0],eyes_dim[1,1]),(eyes_dim[1,0]+eyes_dim[1,2],eyes_dim[1,1]+eyes_dim[1,3]))\n",
    "    frame=cv2.rectangle(frame, left_eye[0],left_eye[1], (0,255,0), 5)\n",
    "    frame=cv2.rectangle(frame, right_eye[0],right_eye[1], (0,255,0), 5)\n",
    "    cv2.imshow('Original',frame)\n",
    "    if cv2.waitKey(10)==27:\n",
    "        break\n",
    "cap.release()"
   ]
  },
  {
   "cell_type": "code",
   "execution_count": null,
   "id": "e345e6b4",
   "metadata": {},
   "outputs": [],
   "source": []
  }
 ],
 "metadata": {
  "kernelspec": {
   "display_name": "Python 3 (ipykernel)",
   "language": "python",
   "name": "python3"
  },
  "language_info": {
   "codemirror_mode": {
    "name": "ipython",
    "version": 3
   },
   "file_extension": ".py",
   "mimetype": "text/x-python",
   "name": "python",
   "nbconvert_exporter": "python",
   "pygments_lexer": "ipython3",
   "version": "3.10.5"
  }
 },
 "nbformat": 4,
 "nbformat_minor": 5
}
