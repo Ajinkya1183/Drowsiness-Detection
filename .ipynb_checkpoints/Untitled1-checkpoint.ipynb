{
 "cells": [
  {
   "cell_type": "code",
   "execution_count": 198,
   "id": "69e67b6a",
   "metadata": {},
   "outputs": [],
   "source": [
    "import cv2\n",
    "import numpy as np\n",
    "import mediapipe as mp\n",
    "from mediapipe.tasks import python\n",
    "from mediapipe.tasks.python import vision\n",
    "import wget\n",
    "import tensorflow as tf\n",
    "import winsound"
   ]
  },
  {
   "cell_type": "code",
   "execution_count": 199,
   "id": "bf20e505",
   "metadata": {},
   "outputs": [],
   "source": [
    "base_options = python.BaseOptions(model_asset_path=\"blaze_face_short_range (1).tflite\")\n",
    "options = vision.FaceDetectorOptions(base_options=base_options)\n",
    "detector = vision.FaceDetector.create_from_options(options)"
   ]
  },
  {
   "cell_type": "code",
   "execution_count": 250,
   "id": "e72222c2",
   "metadata": {},
   "outputs": [],
   "source": [
    "def visualize_results(image,detection_result):\n",
    "    for detection in detection_result.detections:\n",
    "        x1=int(detection_result.detections[0].keypoints[0].x*image.shape[1])-1\n",
    "        x2=int(detection_result.detections[0].keypoints[1].x*image.shape[1])-1\n",
    "        x3=int(detection_result.detections[0].keypoints[2].x*image.shape[1])-1\n",
    "        y1=int(detection_result.detections[0].keypoints[0].y*image.shape[0])-7\n",
    "        y2=int(detection_result.detections[0].keypoints[1].y*image.shape[0])-7\n",
    "        y3=int(detection_result.detections[0].keypoints[2].y*image.shape[0])-1      \n",
    "#         x=int((x1+x2)/2 - x1)\n",
    "        y=int((-(y1+y2)/2+y3)/(1.9))\n",
    "#         x=15\n",
    "        x=y\n",
    "#         image=cv2.rectangle(image,(max(0,x1-x),max(0,y1-y)),(min(image.shape[1]-1,max(0,x1-x)+2*x),min(max(0,y1-y)+2*y,image.shape[0]-1)),(255,0,0),2)\n",
    "#         image=cv2.rectangle(image,(max(0,x2-x),max(0,y2-y)),(min(image.shape[1]-1,max(0,x2-x)+2*x),min(max(0,y2-y)+2*y,image.shape[0]-1)),(255,0,0),2)\n",
    "        right_eye=image[max(0,y1-y):min(max(0,y1-y)+2*y,image.shape[0]-1),max(0,x1-x):min(image.shape[1]-1,max(0,x1-x)+2*x)]\n",
    "        left_eye=image[max(0,y2-y):min(max(0,y2-y)+2*y,image.shape[0]-1),max(0,x2-x):min(image.shape[1]-1,max(0,x2-x)+2*x)]\n",
    "\n",
    "        left_eye = cv2.resize((cv2.cvtColor(left_eye, cv2.COLOR_BGR2GRAY)),(60,60))\n",
    "        right_eye = cv2.resize((cv2.cvtColor(right_eye, cv2.COLOR_BGR2GRAY)),(60,60))\n",
    "        return left_eye,right_eye"
   ]
  },
  {
   "cell_type": "code",
   "execution_count": 202,
   "id": "50eafe98",
   "metadata": {},
   "outputs": [],
   "source": [
    "model=tf.keras.models.load_model('final_model.h5')"
   ]
  },
  {
   "cell_type": "code",
   "execution_count": 253,
   "id": "8f988eb1",
   "metadata": {},
   "outputs": [
    {
     "name": "stdout",
     "output_type": "stream",
     "text": [
      "[[1.0091074]]\n",
      "[[2.]]\n",
      "[[1.9999999]]\n",
      "[[1.9999993]]\n",
      "[[0.00509199]]\n",
      "[[0.16144864]]\n",
      "[[0.86711305]]\n",
      "[[0.08868596]]\n",
      "[[0.17192748]]\n",
      "[[0.11314461]]\n",
      "[[1.9999883]]\n",
      "[[1.9996095]]\n",
      "[[1.4557887]]\n",
      "[[1.9999967]]\n",
      "[[0.03247882]]\n",
      "[[0.45290115]]\n",
      "[[0.93682986]]\n",
      "[[0.63070714]]\n",
      "[[1.6526418]]\n",
      "[[1.9997544]]\n",
      "[[1.9385817]]\n",
      "[[1.0247253]]\n",
      "[[1.9802759]]\n",
      "[[1.0005335]]\n",
      "[[1.9949291]]\n",
      "[[1.9951565]]\n",
      "[[1.9999933]]\n",
      "[[1.6962268]]\n",
      "[[1.995694]]\n",
      "[[1.7582893]]\n",
      "[[1.0313566]]\n",
      "[[1.9994235]]\n",
      "[[1.4362276]]\n",
      "[[1.0099529]]\n",
      "[[1.997584]]\n",
      "[[1.9988599]]\n",
      "[[1.9998169]]\n",
      "[[1.9999644]]\n",
      "[[1.999986]]\n",
      "[[1.9997078]]\n",
      "[[1.9997375]]\n",
      "[[0.26334256]]\n",
      "[[0.00137758]]\n",
      "[[0.65311664]]\n",
      "[[0.9340128]]\n",
      "[[0.11418833]]\n",
      "[[0.08631266]]\n",
      "[[1.9999032]]\n",
      "[[1.9997458]]\n",
      "[[1.9998654]]\n",
      "[[1.9996758]]\n",
      "[[1.9980242]]\n",
      "[[1.9999909]]\n",
      "[[1.9999955]]\n",
      "[[1.9972525]]\n",
      "[[1.9999995]]\n",
      "[[1.9999685]]\n",
      "[[1.9999999]]\n",
      "[[1.9999316]]\n",
      "[[1.9999735]]\n",
      "[[1.9917692]]\n",
      "[[1.9997668]]\n",
      "[[1.9992849]]\n",
      "[[1.9997461]]\n",
      "[[1.9999998]]\n",
      "[[0.00375957]]\n",
      "[[0.02473213]]\n",
      "[[0.995191]]\n",
      "[[0.96646714]]\n",
      "[[0.30250728]]\n",
      "[[0.02585222]]\n",
      "[[1.9992633]]\n",
      "[[1.8671982]]\n",
      "[[1.999612]]\n",
      "[[1.9999945]]\n",
      "[[1.9999983]]\n",
      "[[1.999956]]\n",
      "[[1.9999933]]\n",
      "[[1.9999644]]\n",
      "[[0.86407185]]\n",
      "[[0.90617394]]\n",
      "[[0.28141868]]\n",
      "[[0.995617]]\n",
      "[[1.9999998]]\n",
      "[[1.9998574]]\n",
      "[[1.9995859]]\n",
      "[[1.9999739]]\n"
     ]
    }
   ],
   "source": [
    "cap = cv2.VideoCapture(0)\n",
    "t=0\n",
    "while 1:\n",
    "    ret,frame =cap.read() \n",
    "    rgb_frame = mp.Image(image_format=mp.ImageFormat.SRGB, data=frame)\n",
    "    detection_result = detector.detect(rgb_frame)\n",
    "    frames=visualize_results(frame,detection_result)\n",
    "    if frames != None:\n",
    "        frame1_1,frame1_2=visualize_results(frame,detection_result)\n",
    "        if frame1_1.shape[0]>0 and frame1_2.shape[1]>0:\n",
    "            cv2.imshow('FACE',frame1_1)\n",
    "            cv2.imshow('FACE1',frame1_2)\n",
    "            frame1_1=np.reshape(frame1_1,(1,60,60))\n",
    "            frame1_2=np.reshape(frame1_2,(1,60,60))\n",
    "            score=model.predict(frame1_1/255,verbose=0)+model.predict(frame1_2/255,verbose=0)\n",
    "            print(score)\n",
    "            if score<1.5:\n",
    "                t+=1\n",
    "            else:\n",
    "                t=0\n",
    "            if t>=3:\n",
    "                winsound.Beep(2000, 250)\n",
    "\n",
    "        if cv2.waitKey(500)==27:\n",
    "            break\n",
    "cap.release()\n",
    "cv2.destroyAllWindows()"
   ]
  },
  {
   "cell_type": "code",
   "execution_count": 204,
   "id": "109d8a43",
   "metadata": {},
   "outputs": [
    {
     "name": "stdout",
     "output_type": "stream",
     "text": [
      "Model: \"model_7\"\n",
      "_________________________________________________________________\n",
      " Layer (type)                Output Shape              Param #   \n",
      "=================================================================\n",
      " input_8 (InputLayer)        [(None, 60, 60)]          0         \n",
      "                                                                 \n",
      " reshape_7 (Reshape)         (None, 60, 60, 1)         0         \n",
      "                                                                 \n",
      " separable_conv2d_14 (Separa  (None, 20, 20, 32)       81        \n",
      " bleConv2D)                                                      \n",
      "                                                                 \n",
      " batch_normalization_23 (Bat  (None, 20, 20, 32)       128       \n",
      " chNormalization)                                                \n",
      "                                                                 \n",
      " leaky_re_lu_23 (LeakyReLU)  (None, 20, 20, 32)        0         \n",
      "                                                                 \n",
      " separable_conv2d_15 (Separa  (None, 10, 10, 64)       2848      \n",
      " bleConv2D)                                                      \n",
      "                                                                 \n",
      " batch_normalization_24 (Bat  (None, 10, 10, 64)       256       \n",
      " chNormalization)                                                \n",
      "                                                                 \n",
      " leaky_re_lu_24 (LeakyReLU)  (None, 10, 10, 64)        0         \n",
      "                                                                 \n",
      " separable_conv2d_16 (Separa  (None, 5, 5, 96)         7744      \n",
      " bleConv2D)                                                      \n",
      "                                                                 \n",
      " batch_normalization_25 (Bat  (None, 5, 5, 96)         384       \n",
      " chNormalization)                                                \n",
      "                                                                 \n",
      " leaky_re_lu_25 (LeakyReLU)  (None, 5, 5, 96)          0         \n",
      "                                                                 \n",
      " separable_conv2d_17 (Separa  (None, 5, 5, 128)        13152     \n",
      " bleConv2D)                                                      \n",
      "                                                                 \n",
      " batch_normalization_26 (Bat  (None, 5, 5, 128)        512       \n",
      " chNormalization)                                                \n",
      "                                                                 \n",
      " leaky_re_lu_26 (LeakyReLU)  (None, 5, 5, 128)         0         \n",
      "                                                                 \n",
      " flatten_7 (Flatten)         (None, 3200)              0         \n",
      "                                                                 \n",
      " dropout_2 (Dropout)         (None, 3200)              0         \n",
      "                                                                 \n",
      " dense_7 (Dense)             (None, 1)                 3201      \n",
      "                                                                 \n",
      "=================================================================\n",
      "Total params: 28,306\n",
      "Trainable params: 27,666\n",
      "Non-trainable params: 640\n",
      "_________________________________________________________________\n"
     ]
    }
   ],
   "source": [
    "model.summary()"
   ]
  },
  {
   "cell_type": "code",
   "execution_count": 80,
   "id": "4ce76bae",
   "metadata": {},
   "outputs": [
    {
     "data": {
      "text/plain": [
       "(1, 60, 60)"
      ]
     },
     "execution_count": 80,
     "metadata": {},
     "output_type": "execute_result"
    }
   ],
   "source": [
    "frame1.shape"
   ]
  },
  {
   "cell_type": "code",
   "execution_count": 81,
   "id": "c9b67c9b",
   "metadata": {},
   "outputs": [],
   "source": [
    "import matplotlib.pyplot as plt"
   ]
  },
  {
   "cell_type": "code",
   "execution_count": 133,
   "id": "d6777a71",
   "metadata": {},
   "outputs": [
    {
     "data": {
      "text/plain": [
       "<matplotlib.image.AxesImage at 0x1ccb8b7cb50>"
      ]
     },
     "execution_count": 133,
     "metadata": {},
     "output_type": "execute_result"
    },
    {
     "data": {
      "image/png": "[encoded data removed]",
      "text/plain": [
       "<Figure size 432x288 with 1 Axes>"
      ]
     },
     "metadata": {
      "needs_background": "light"
     },
     "output_type": "display_data"
    }
   ],
   "source": [
    "plt.imshow( (frame1[0]/255),cmap='gray')\n"
   ]
  },
  {
   "cell_type": "code",
   "execution_count": 100,
   "id": "e734a9e4",
   "metadata": {},
   "outputs": [
    {
     "data": {
      "text/plain": [
       "<matplotlib.image.AxesImage at 0x1ccb87f5630>"
      ]
     },
     "execution_count": 100,
     "metadata": {},
     "output_type": "execute_result"
    },
    {
     "data": {
      "image/png": "[encoded data removed]",
      "text/plain": [
       "<Figure size 432x288 with 1 Axes>"
      ]
     },
     "metadata": {
      "needs_background": "light"
     },
     "output_type": "display_data"
    }
   ],
   "source": [
    "plt.imshow( (frame1[0]/255 > 0.3).astype(int))\n"
   ]
  },
  {
   "cell_type": "code",
   "execution_count": null,
   "id": "8c2f3b16",
   "metadata": {},
   "outputs": [],
   "source": []
  }
 ],
 "metadata": {
  "kernelspec": {
   "display_name": "Python 3 (ipykernel)",
   "language": "python",
   "name": "python3"
  },
  "language_info": {
   "codemirror_mode": {
    "name": "ipython",
    "version": 3
   },
   "file_extension": ".py",
   "mimetype": "text/x-python",
   "name": "python",
   "nbconvert_exporter": "python",
   "pygments_lexer": "ipython3",
   "version": "3.10.5"
  }
 },
 "nbformat": 4,
 "nbformat_minor": 5
}
