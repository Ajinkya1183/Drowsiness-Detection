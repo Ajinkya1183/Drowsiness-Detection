{
 "cells": [
  {
   "cell_type": "code",
   "execution_count": 1,
   "id": "69e67b6a",
   "metadata": {},
   "outputs": [],
   "source": [
    "import cv2\n",
    "import numpy as np\n",
    "import mediapipe as mp\n",
    "from mediapipe.tasks import python\n",
    "from mediapipe.tasks.python import vision\n",
    "import wget\n",
    "import tensorflow as tf\n",
    "import winsound"
   ]
  },
  {
   "cell_type": "code",
   "execution_count": 2,
   "id": "bf20e505",
   "metadata": {},
   "outputs": [],
   "source": [
    "base_options = python.BaseOptions(model_asset_path=\"blaze_face_short_range.tflite\")\n",
    "options = vision.FaceDetectorOptions(base_options=base_options)\n",
    "detector = vision.FaceDetector.create_from_options(options)"
   ]
  },
  {
   "cell_type": "code",
   "execution_count": 30,
   "id": "e72222c2",
   "metadata": {},
   "outputs": [],
   "source": [
    "def visualize_results(image,detection_result):\n",
    "    for detection in detection_result.detections:\n",
    "        x1=int(detection_result.detections[0].keypoints[0].x*image.shape[1])-1\n",
    "        x2=int(detection_result.detections[0].keypoints[1].x*image.shape[1])-1\n",
    "        x3=int(detection_result.detections[0].keypoints[2].x*image.shape[1])-1\n",
    "        y1=int(detection_result.detections[0].keypoints[0].y*image.shape[0])-1\n",
    "        y2=int(detection_result.detections[0].keypoints[1].y*image.shape[0])-7\n",
    "        y3=int(detection_result.detections[0].keypoints[2].y*image.shape[0])-1      \n",
    "        x=int((((x1+x2)/(2) - x1))/1.0)\n",
    "        y=int((-(y1+y2)/2+y3)/(1.5))\n",
    "#         print(y)\n",
    "\n",
    "#         x=25\n",
    "        x=y\n",
    "#         y=x\n",
    "#         image=cv2.rectangle(image,(max(0,x1-x),max(0,y1-y)),(min(image.shape[1]-1,max(0,x1-x)+2*x),min(max(0,y1-y)+2*y,image.shape[0]-1)),(255,0,0),2)\n",
    "#         image=cv2.SeparableConv2Drectangle(image,(max(0,x2-x),max(0,y2-y)),(min(image.shape[1]-1,max(0,x2-x)+2*x),min(max(0,y2-y)+2*y,image.shape[0]-1)),(255,0,0),2)\n",
    "        right_eye=image[max(0,y1-y):min(max(0,y1-y)+2*y,image.shape[0]-1),max(0,x1-x):min(image.shape[1]-1,max(0,x1-x)+2*x)]\n",
    "        left_eye=image[max(0,y2-y):min(max(0,y2-y)+2*y,image.shape[0]-1),max(0,x2-x):min(image.shape[1]-1,max(0,x2-x)+2*x)]\n",
    "\n",
    "        left_eye = cv2.resize((cv2.cvtColor(left_eye, cv2.COLOR_BGR2GRAY)),(60,60))\n",
    "        right_eye = cv2.resize((cv2.cvtColor(right_eye, cv2.COLOR_BGR2GRAY)),(60,60))\n",
    "        return left_eye,right_eye"
   ]
  },
  {
   "cell_type": "code",
   "execution_count": 33,
   "id": "5c91508c",
   "metadata": {},
   "outputs": [],
   "source": [
    "model=tf.keras.models.load_model('final_model.h5')\n",
    "model1=tf.keras.models.load_model('final_model.h5')"
   ]
  },
  {
   "cell_type": "code",
   "execution_count": 37,
   "id": "8f988eb1",
   "metadata": {},
   "outputs": [
    {
     "name": "stdout",
     "output_type": "stream",
     "text": [
      "[[0.995215]] [[0.9921969]] [[0.995215]] [[0.9921969]]\n",
      "[[0.998872]] [[0.9868113]] [[0.998872]] [[0.9868113]]\n",
      "[[0.9927697]] [[0.9981869]] [[0.9927697]] [[0.9981869]]\n",
      "[[0.9833814]] [[0.98246723]] [[0.9833814]] [[0.98246723]]\n",
      "[[0.93889767]] [[0.9730468]] [[0.93889767]] [[0.9730468]]\n",
      "[[0.9816332]] [[0.26457217]] [[0.9816332]] [[0.26457217]]\n",
      "[[0.9887234]] [[0.5401054]] [[0.9887234]] [[0.5401054]]\n",
      "[[0.9634414]] [[0.282307]] [[0.9634414]] [[0.282307]]\n",
      "[[0.94571203]] [[0.42851132]] [[0.94571203]] [[0.42851132]]\n",
      "[[0.96499985]] [[0.33117476]] [[0.96499985]] [[0.33117476]]\n",
      "[[0.9155706]] [[0.16357917]] [[0.9155706]] [[0.16357917]]\n",
      "[[0.9966098]] [[0.9975436]] [[0.9966098]] [[0.9975436]]\n",
      "[[0.966957]] [[0.9855134]] [[0.966957]] [[0.9855134]]\n",
      "[[0.9300988]] [[0.98138314]] [[0.9300988]] [[0.98138314]]\n",
      "[[0.9237875]] [[0.9758001]] [[0.9237875]] [[0.9758001]]\n",
      "[[0.01214279]] [[0.1812342]] [[0.01214279]] [[0.1812342]]\n",
      "[[0.00752096]] [[0.18703462]] [[0.00752096]] [[0.18703462]]\n",
      "[[0.00653511]] [[0.24113876]] [[0.00653511]] [[0.24113876]]\n",
      "[[0.00356916]] [[0.30835876]] [[0.00356916]] [[0.30835876]]\n",
      "[[0.00545084]] [[0.33549702]] [[0.00545084]] [[0.33549702]]\n",
      "[[0.01063961]] [[0.16842307]] [[0.01063961]] [[0.16842307]]\n",
      "[[0.8292263]] [[0.9919334]] [[0.8292263]] [[0.9919334]]\n",
      "[[0.90780663]] [[0.9858988]] [[0.90780663]] [[0.9858988]]\n",
      "[[0.9685734]] [[0.94941795]] [[0.9685734]] [[0.94941795]]\n",
      "[[0.7827725]] [[0.96985173]] [[0.7827725]] [[0.96985173]]\n",
      "[[0.95523167]] [[0.98191255]] [[0.95523167]] [[0.98191255]]\n",
      "[[0.9303943]] [[0.9795577]] [[0.9303943]] [[0.9795577]]\n",
      "[[0.68451405]] [[0.96074414]] [[0.68451405]] [[0.96074414]]\n",
      "[[0.01842392]] [[0.5754108]] [[0.01842392]] [[0.5754108]]\n",
      "[[0.005111]] [[0.20212394]] [[0.005111]] [[0.20212394]]\n",
      "[[0.02083113]] [[0.31955442]] [[0.02083113]] [[0.31955442]]\n",
      "[[0.00944497]] [[0.23882274]] [[0.00944497]] [[0.23882274]]\n"
     ]
    }
   ],
   "source": [
    "cap = cv2.VideoCapture(0)\n",
    "t=0\n",
    "while 1:\n",
    "    ret,frame =cap.read() \n",
    "    rgb_frame = mp.Image(image_format=mp.ImageFormat.SRGB, data=frame)\n",
    "    detection_result = detector.detect(rgb_frame)\n",
    "    frames=visualize_results(frame,detection_result)\n",
    "    if frames != None:\n",
    "        frame1_1,frame1_2=visualize_results(frame,detection_result)\n",
    "#         frame1_1=increase_contrast1(frame1_1)\n",
    "#         frame1_2=increase_contrast1(frame1_2)\n",
    "        if frame1_1.shape[0]>0 and frame1_2.shape[1]>0:\n",
    "            frame1_1=np.reshape(frame1_1,(1,60,60))\n",
    "            frame1_2=np.reshape(frame1_2,(1,60,60))\n",
    "            cv2.imshow('FACE',frame1_1[0]/255)\n",
    "            cv2.imshow('FACE1',frame1_2[0]/255)\n",
    "            score1=model.predict((frame1_1)/255,verbose=0)\n",
    "            score2=model.predict((frame1_2)/255,verbose=0)\n",
    "            score3=model1.predict((frame1_1)/255,verbose=0)\n",
    "            score4=model1.predict((frame1_2)/255,verbose=0)\n",
    "            print(score1,score2,score3,score4)\n",
    "            if score1<0.9 and score2<0.9:\n",
    "                t+=1\n",
    "            else:\n",
    "                t=0\n",
    "            if t>=3:\n",
    "                winsound.Beep(2000, 250)\n",
    "\n",
    "        if cv2.waitKey(500)==27:\n",
    "            break\n",
    "cap.release()\n",
    "cv2.destroyAllWindows()"
   ]
  },
  {
   "cell_type": "markdown",
   "id": "ba3be3d8",
   "metadata": {},
   "source": [
    "# "
   ]
  },
  {
   "cell_type": "code",
   "execution_count": 23,
   "id": "662a2a2d",
   "metadata": {},
   "outputs": [],
   "source": [
    "import matplotlib.pyplot as plt"
   ]
  },
  {
   "cell_type": "code",
   "execution_count": 24,
   "id": "6db280d4",
   "metadata": {},
   "outputs": [
    {
     "data": {
      "image/png": "[encoded data removed]",
      "text/plain": [
       "<Figure size 432x288 with 1 Axes>"
      ]
     },
     "metadata": {
      "needs_background": "light"
     },
     "output_type": "display_data"
    }
   ],
   "source": [
    "# plt.imshow( (cv2.convertScaleAbs(frame1_1[0], 0.5, 1)/255),cmap='gray')\n",
    "# plt.show\n",
    "# frame1_1=frame1_1*2\n",
    "plt.imshow(((frame1_1[0])),cmap='gray')\n",
    "plt.show()"
   ]
  },
  {
   "cell_type": "code",
   "execution_count": 25,
   "id": "74945157",
   "metadata": {},
   "outputs": [
    {
     "data": {
      "text/plain": [
       "<matplotlib.image.AxesImage at 0x2be3eb18250>"
      ]
     },
     "execution_count": 25,
     "metadata": {},
     "output_type": "execute_result"
    },
    {
     "data": {
      "image/png": "[encoded data removed]",
      "text/plain": [
       "<Figure size 432x288 with 1 Axes>"
      ]
     },
     "metadata": {
      "needs_background": "light"
     },
     "output_type": "display_data"
    }
   ],
   "source": [
    "plt.imshow((frame1_2[0]),cmap='gray')\n",
    "# plt.imshow( (cv2.convertScaleAbs(frame1[0].astype('float')/255, 3, 1)),cmap='gray')\n"
   ]
  },
  {
   "cell_type": "markdown",
   "id": "ef1c52d6",
   "metadata": {},
   "source": [
    "# ret"
   ]
  },
  {
   "cell_type": "code",
   "execution_count": 1199,
   "id": "f6150d34",
   "metadata": {},
   "outputs": [
    {
     "data": {
      "text/plain": [
       "True"
      ]
     },
     "execution_count": 1199,
     "metadata": {},
     "output_type": "execute_result"
    }
   ],
   "source": [
    "ret"
   ]
  },
  {
   "cell_type": "code",
   "execution_count": 320,
   "id": "51114147",
   "metadata": {},
   "outputs": [
    {
     "data": {
      "text/plain": [
       "array([[ 58,  58,  58, ...,  58,  58,  58],\n",
       "       [ 58,  58,  58, ...,  58,  58,  58],\n",
       "       [ 58,  58,  60, ...,  78,  68,  58],\n",
       "       ...,\n",
       "       [ 58,  58,  92, ..., 255, 166,  58],\n",
       "       [ 58,  58,  74, ..., 166, 112,  58],\n",
       "       [ 58,  58,  58, ...,  58,  58,  58]], dtype=uint8)"
      ]
     },
     "execution_count": 320,
     "metadata": {},
     "output_type": "execute_result"
    }
   ],
   "source": [
    "frame1_1[0]"
   ]
  },
  {
   "cell_type": "code",
   "execution_count": 332,
   "id": "d06419b6",
   "metadata": {},
   "outputs": [
    {
     "data": {
      "text/plain": [
       "array([[29, 29, 29, ..., 29, 29, 29],\n",
       "       [29, 29, 29, ..., 29, 29, 29],\n",
       "       [29, 29, 46, ..., 65, 56, 29],\n",
       "       ...,\n",
       "       [29, 29, 79, ..., 90, 75, 29],\n",
       "       [29, 29, 68, ..., 74, 63, 29],\n",
       "       [29, 29, 29, ..., 29, 29, 29]], dtype=uint8)"
      ]
     },
     "execution_count": 332,
     "metadata": {},
     "output_type": "execute_result"
    }
   ],
   "source": [
    "frames[0]"
   ]
  },
  {
   "cell_type": "code",
   "execution_count": 638,
   "id": "1c87e777",
   "metadata": {},
   "outputs": [],
   "source": [
    "frame1_1=frame1_1/255"
   ]
  },
  {
   "cell_type": "code",
   "execution_count": 646,
   "id": "1bd5ecbc",
   "metadata": {},
   "outputs": [],
   "source": [
    "frame1_1=frame1_1*2 -100000"
   ]
  },
  {
   "cell_type": "code",
   "execution_count": 5,
   "id": "69de4e74",
   "metadata": {},
   "outputs": [],
   "source": [
    "def increase_contrast(image):\n",
    "    # Convert image to grayscale\n",
    "    gray_image = cv2.cvtColor(image, cv2.COLOR_BGR2GRAY)\n",
    "    \n",
    "    # Calculate histogram\n",
    "    hist, bins = np.histogram(gray_image.flatten(), 256, [0,256])\n",
    "    \n",
    "    # Calculate cumulative distribution function (CDF)\n",
    "    cdf = hist.cumsum()\n",
    "    cdf_normalized = cdf * hist.max() / cdf.max()\n",
    "    \n",
    "    # Calculate scaling parameters\n",
    "    min_intensity = bins[np.min(np.where(cdf_normalized > 0))]\n",
    "    max_intensity = bins[np.max(np.where(cdf_normalized < cdf_normalized.max()))]\n",
    "    desired_min = 0\n",
    "    desired_max = 255\n",
    "    \n",
    "    # Adjust pixel intensities\n",
    "    adjusted_image = np.interp(gray_image, [min_intensity, max_intensity], [desired_min, desired_max])\n",
    "    \n",
    "    # Convert adjusted image back to BGR color space\n",
    "    adjusted_image = cv2.cvtColor(adjusted_image.astype(np.uint8), cv2.COLOR_GRAY2BGR)\n",
    "    \n",
    "    return adjusted_image"
   ]
  },
  {
   "cell_type": "code",
   "execution_count": 9,
   "id": "f59f052e",
   "metadata": {},
   "outputs": [],
   "source": [
    "def increase_contrast1(gray_image):\n",
    "    # Convert image to grayscale    \n",
    "    # Calculate histogram\n",
    "#     hist, bins = np.histogram(gray_image.flatten(), 256, [0,256])\n",
    "    \n",
    "#     # Calculate cumulative distribution function (CDF)\n",
    "#     cdf = hist.cumsum()\n",
    "#     cdf_normalized = cdf * hist.max() / cdf.max()\n",
    "    \n",
    "#     # Calculate scaling parameters\n",
    "#     min_intensity = bins[np.min(np.where(cdf_normalized > 0))]\n",
    "#     max_intensity = bins[np.max(np.where(cdf_normalized < cdf_normalized.max()))]\n",
    "#     desired_min = 100\n",
    "#     desired_max = 150\n",
    "    \n",
    "#     # Adjust pixel intensities\n",
    "#     adjusted_image = np.interp(gray_image, [min_intensity, max_intensity], [desired_min, desired_max])\n",
    "    mean=np.mean(gray_image)\n",
    "    adjusted_image=(gray_image-mean)*5+mean\n",
    "    \n",
    "    # Convert adjusted image back to BGR color space\n",
    "#     adjusted_image = cv2.cvtColor(adjusted_image.astype(np.uint8), cv2.COLOR_GRAY2BGR)\n",
    "    \n",
    "    return adjusted_image"
   ]
  },
  {
   "cell_type": "code",
   "execution_count": 43,
   "id": "ba82dbe7",
   "metadata": {},
   "outputs": [
    {
     "data": {
      "text/plain": [
       "114.38602941176472"
      ]
     },
     "execution_count": 43,
     "metadata": {},
     "output_type": "execute_result"
    }
   ],
   "source": [
    "np.mean(frame1_1)"
   ]
  },
  {
   "cell_type": "code",
   "execution_count": 44,
   "id": "8adbc9b6",
   "metadata": {},
   "outputs": [
    {
     "data": {
      "text/plain": [
       "array([[[120.58823529, 120.58823529, 119.11764706, ..., 133.82352941,\n",
       "         133.82352941, 132.35294118],\n",
       "        [116.17647059, 114.70588235, 114.70588235, ..., 132.35294118,\n",
       "         130.88235294, 127.94117647],\n",
       "        [114.70588235, 113.23529412, 113.23529412, ..., 127.94117647,\n",
       "         126.47058824, 125.        ],\n",
       "        ...,\n",
       "        [135.29411765, 133.82352941, 130.88235294, ..., 111.76470588,\n",
       "         111.76470588, 113.23529412],\n",
       "        [135.29411765, 133.82352941, 130.88235294, ..., 113.23529412,\n",
       "         113.23529412, 113.23529412],\n",
       "        [136.76470588, 133.82352941, 130.88235294, ..., 114.70588235,\n",
       "         114.70588235, 114.70588235]]])"
      ]
     },
     "execution_count": 44,
     "metadata": {},
     "output_type": "execute_result"
    }
   ],
   "source": []
  },
  {
   "cell_type": "code",
   "execution_count": null,
   "id": "e1dc18fa",
   "metadata": {},
   "outputs": [],
   "source": []
  }
 ],
 "metadata": {
  "kernelspec": {
   "display_name": "Python 3 (ipykernel)",
   "language": "python",
   "name": "python3"
  },
  "language_info": {
   "codemirror_mode": {
    "name": "ipython",
    "version": 3
   },
   "file_extension": ".py",
   "mimetype": "text/x-python",
   "name": "python",
   "nbconvert_exporter": "python",
   "pygments_lexer": "ipython3",
   "version": "3.10.5"
  }
 },
 "nbformat": 4,
 "nbformat_minor": 5
}
