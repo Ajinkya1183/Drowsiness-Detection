{
 "cells": [
  {
   "cell_type": "code",
   "execution_count": 1,
   "id": "5d5f6f58",
   "metadata": {},
   "outputs": [],
   "source": [
    "import cv2\n",
    "import numpy\n",
    "import mediapipe as mp\n",
    "from mediapipe.tasks import python\n",
    "from mediapipe.tasks.python import vision\n",
    "import wget\n",
    "import winsound"
   ]
  },
  {
   "cell_type": "code",
   "execution_count": 4,
   "id": "1ae2e6aa",
   "metadata": {},
   "outputs": [
    {
     "name": "stdout",
     "output_type": "stream",
     "text": [
      "C:\\Users\\User\\AppData\\Roaming\\Python\\Python310\\site-packages\\mediapipe\\__init__.py\n"
     ]
    }
   ],
   "source": [
    "print(mp.__file__)"
   ]
  },
  {
   "cell_type": "code",
   "execution_count": 60,
   "id": "15432b89",
   "metadata": {},
   "outputs": [],
   "source": [
    "eye_detector=cv2.CascadeClassifier('haarcascade_eye.xml')\n",
    "face_detector=cv2.CascadeClassifier(\"haarcascade_face.xml\")"
   ]
  },
  {
   "cell_type": "code",
   "execution_count": 27,
   "id": "6e37fc5d",
   "metadata": {},
   "outputs": [
    {
     "data": {
      "text/plain": [
       "< cv2.CascadeClassifier 0000020A9872F950>"
      ]
     },
     "execution_count": 27,
     "metadata": {},
     "output_type": "execute_result"
    }
   ],
   "source": [
    "eye_detector"
   ]
  },
  {
   "cell_type": "code",
   "execution_count": 47,
   "id": "a4f88ae2",
   "metadata": {},
   "outputs": [],
   "source": [
    "image=cv2.imread(\"test_closed.jpg\")"
   ]
  },
  {
   "cell_type": "code",
   "execution_count": 51,
   "id": "525c200f",
   "metadata": {},
   "outputs": [
    {
     "ename": "TypeError",
     "evalue": "tuple indices must be integers or slices, not tuple",
     "output_type": "error",
     "traceback": [
      "\u001b[1;31m---------------------------------------------------------------------------\u001b[0m",
      "\u001b[1;31mTypeError\u001b[0m                                 Traceback (most recent call last)",
      "Input \u001b[1;32mIn [51]\u001b[0m, in \u001b[0;36m<cell line: 2>\u001b[1;34m()\u001b[0m\n\u001b[0;32m      1\u001b[0m eyes_dim\u001b[38;5;241m=\u001b[39meye_detector\u001b[38;5;241m.\u001b[39mdetectMultiScale(image, scaleFactor\u001b[38;5;241m=\u001b[39m\u001b[38;5;241m1.2\u001b[39m,minNeighbors\u001b[38;5;241m=\u001b[39m\u001b[38;5;241m100\u001b[39m)\n\u001b[1;32m----> 2\u001b[0m left_eye\u001b[38;5;241m=\u001b[39m((\u001b[43meyes_dim\u001b[49m\u001b[43m[\u001b[49m\u001b[38;5;241;43m0\u001b[39;49m\u001b[43m,\u001b[49m\u001b[38;5;241;43m0\u001b[39;49m\u001b[43m]\u001b[49m,eyes_dim[\u001b[38;5;241m0\u001b[39m,\u001b[38;5;241m1\u001b[39m]),(eyes_dim[\u001b[38;5;241m0\u001b[39m,\u001b[38;5;241m0\u001b[39m]\u001b[38;5;241m+\u001b[39meyes_dim[\u001b[38;5;241m0\u001b[39m,\u001b[38;5;241m2\u001b[39m],eyes_dim[\u001b[38;5;241m0\u001b[39m,\u001b[38;5;241m1\u001b[39m]\u001b[38;5;241m+\u001b[39meyes_dim[\u001b[38;5;241m0\u001b[39m,\u001b[38;5;241m3\u001b[39m]))\n\u001b[0;32m      3\u001b[0m right_eye\u001b[38;5;241m=\u001b[39m((eyes_dim[\u001b[38;5;241m1\u001b[39m,\u001b[38;5;241m0\u001b[39m],eyes_dim[\u001b[38;5;241m1\u001b[39m,\u001b[38;5;241m1\u001b[39m]),(eyes_dim[\u001b[38;5;241m1\u001b[39m,\u001b[38;5;241m0\u001b[39m]\u001b[38;5;241m+\u001b[39meyes_dim[\u001b[38;5;241m1\u001b[39m,\u001b[38;5;241m2\u001b[39m],eyes_dim[\u001b[38;5;241m1\u001b[39m,\u001b[38;5;241m1\u001b[39m]\u001b[38;5;241m+\u001b[39meyes_dim[\u001b[38;5;241m1\u001b[39m,\u001b[38;5;241m3\u001b[39m]))\n\u001b[0;32m      4\u001b[0m eyes_dim\n",
      "\u001b[1;31mTypeError\u001b[0m: tuple indices must be integers or slices, not tuple"
     ]
    }
   ],
   "source": [
    "eyes_dim=eye_detector.detectMultiScale(image, scaleFactor=1.2,minNeighbors=100)\n",
    "# left_eye=((eyes_dim[0,0],eyes_dim[0,1]),(eyes_dim[0,0]+eyes_dim[0,2],eyes_dim[0,1]+eyes_dim[0,3]))\n",
    "# right_eye=((eyes_dim[1,0],eyes_dim[1,1]),(eyes_dim[1,0]+eyes_dim[1,2],eyes_dim[1,1]+eyes_dim[1,3]))\n",
    "eyes_dim"
   ]
  },
  {
   "cell_type": "code",
   "execution_count": 48,
   "id": "a381aa9d",
   "metadata": {},
   "outputs": [],
   "source": [
    "for eyes in eyes_dim:\n",
    "    cv2.rectangle(frame,(eyes[0],eyes[1]),(eyes[0]+eyes[2],eyes[0]+eyes[3]),(0,255,255),3)"
   ]
  },
  {
   "cell_type": "code",
   "execution_count": 50,
   "id": "07a3b927",
   "metadata": {},
   "outputs": [
    {
     "data": {
      "text/plain": [
       "-1"
      ]
     },
     "execution_count": 50,
     "metadata": {},
     "output_type": "execute_result"
    }
   ],
   "source": [
    "cv2.imshow('Image',image)\n",
    "cv2.waitKey(0)\n",
    "cv2.destroyAllWindows()\n",
    "cv2.waitKey(1)\n"
   ]
  },
  {
   "cell_type": "code",
   "execution_count": 23,
   "id": "06aecd28",
   "metadata": {},
   "outputs": [
    {
     "ename": "SyntaxError",
     "evalue": "invalid syntax (2845052982.py, line 1)",
     "output_type": "error",
     "traceback": [
      "\u001b[1;36m  Input \u001b[1;32mIn [23]\u001b[1;36m\u001b[0m\n\u001b[1;33m    wget -q -O detector.tflite -q https://storage.googleapis.com/mediapipe-models/face_detector/blaze_face_short_range/float16/1/blaze_face_short_range.tflite\u001b[0m\n\u001b[1;37m               ^\u001b[0m\n\u001b[1;31mSyntaxError\u001b[0m\u001b[1;31m:\u001b[0m invalid syntax\n"
     ]
    }
   ],
   "source": [
    "!wget -q -O detector.tflite -q https://storage.googleapis.com/mediapipe-models/face_detector/blaze_face_short_range/float16/1/blaze_face_short_range.tflite"
   ]
  },
  {
   "cell_type": "code",
   "execution_count": 60,
   "id": "a0b1123f",
   "metadata": {},
   "outputs": [
    {
     "ename": "NameError",
     "evalue": "name 'face_detector' is not defined",
     "output_type": "error",
     "traceback": [
      "\u001b[1;31m---------------------------------------------------------------------------\u001b[0m",
      "\u001b[1;31mNameError\u001b[0m                                 Traceback (most recent call last)",
      "Input \u001b[1;32mIn [60]\u001b[0m, in \u001b[0;36m<cell line: 2>\u001b[1;34m()\u001b[0m\n\u001b[0;32m      5\u001b[0m frame \u001b[38;5;241m=\u001b[39m cv2\u001b[38;5;241m.\u001b[39mGaussianBlur(frame, (\u001b[38;5;241m13\u001b[39m,\u001b[38;5;241m13\u001b[39m), \u001b[38;5;241m0\u001b[39m)\n\u001b[0;32m      6\u001b[0m gray \u001b[38;5;241m=\u001b[39m cv2\u001b[38;5;241m.\u001b[39mcvtColor(frame, cv2\u001b[38;5;241m.\u001b[39mCOLOR_BGR2GRAY)    \n\u001b[1;32m----> 7\u001b[0m faces_dim\u001b[38;5;241m=\u001b[39m\u001b[43mface_detector\u001b[49m\u001b[38;5;241m.\u001b[39mdetectMultiScale(gray, scaleFactor\u001b[38;5;241m=\u001b[39m\u001b[38;5;241m1.2\u001b[39m,minNeighbors\u001b[38;5;241m=\u001b[39m\u001b[38;5;241m3\u001b[39m)\n\u001b[0;32m      8\u001b[0m \u001b[38;5;28;01mfor\u001b[39;00m face \u001b[38;5;129;01min\u001b[39;00m faces_dim:\n\u001b[0;32m      9\u001b[0m     cv2\u001b[38;5;241m.\u001b[39mrectangle(frame,(face[\u001b[38;5;241m0\u001b[39m],face[\u001b[38;5;241m1\u001b[39m]),(face[\u001b[38;5;241m0\u001b[39m]\u001b[38;5;241m+\u001b[39mface[\u001b[38;5;241m2\u001b[39m],face[\u001b[38;5;241m1\u001b[39m]\u001b[38;5;241m+\u001b[39mface[\u001b[38;5;241m3\u001b[39m]),(\u001b[38;5;241m0\u001b[39m,\u001b[38;5;241m255\u001b[39m,\u001b[38;5;241m255\u001b[39m),\u001b[38;5;241m3\u001b[39m)\n",
      "\u001b[1;31mNameError\u001b[0m: name 'face_detector' is not defined"
     ]
    }
   ],
   "source": [
    "cap = cv2.VideoCapture(0)\n",
    "while 1:\n",
    "    ret,frame =cap.read() \n",
    "    frame=cv2.convertScaleAbs(frame, 0.5, 3)\n",
    "    gray = cv2.cvtColor(frame, cv2.COLOR_BGR2GRAY)    \n",
    "    faces_dim=face_detector.detectMultiScale(gray, scaleFactor=1.2,minNeighbors=3)\n",
    "    for face in faces_dim:\n",
    "        cv2.rectangle(frame,(face[0],face[1]),(face[0]+face[2],face[1]+face[3]),(0,255,255),3)\n",
    "    eyes_dim=eye_detector.detectMultiScale(gray, scaleFactor=1.2,minNeighbors=10)\n",
    "    for eyes in eyes_dim:\n",
    "        cv2.rectangle(frame,(eyes[0],eyes[1]),(eyes[0]+eyes[2],eyes[1]+eyes[3]),(0,255,255),3)\n",
    "    cv2.imshow('Original',frame)\n",
    "    if cv2.waitKey(100)==27:\n",
    "        break\n",
    "cap.release()"
   ]
  },
  {
   "cell_type": "code",
   "execution_count": 24,
   "id": "42f466bc",
   "metadata": {},
   "outputs": [],
   "source": [
    "base_options = python.BaseOptions(model_asset_path=\"blaze_face_short_range.tflite\")\n",
    "options = vision.FaceDetectorOptions(base_options=base_options)\n",
    "detector = vision.FaceDetector.create_from_options(options)"
   ]
  },
  {
   "cell_type": "code",
   "execution_count": 27,
   "id": "293fbfef",
   "metadata": {},
   "outputs": [],
   "source": [
    "image = mp.Image.create_from_file(\"image.jpg\")"
   ]
  },
  {
   "cell_type": "code",
   "execution_count": 28,
   "id": "fa87b51e",
   "metadata": {},
   "outputs": [],
   "source": [
    "detection_result = detector.detect(image)\n"
   ]
  },
  {
   "cell_type": "code",
   "execution_count": 59,
   "id": "d8f11bd8",
   "metadata": {},
   "outputs": [
    {
     "name": "stdout",
     "output_type": "stream",
     "text": [
      "126\n",
      "616\n"
     ]
    }
   ],
   "source": [
    "for i in detection_result.detections:\n",
    "    print(i.bounding_box.origin_x)\n",
    "    start="
   ]
  },
  {
   "cell_type": "code",
   "execution_count": null,
   "id": "9d27ce3f",
   "metadata": {},
   "outputs": [],
   "source": []
  }
 ],
 "metadata": {
  "kernelspec": {
   "display_name": "Python 3 (ipykernel)",
   "language": "python",
   "name": "python3"
  },
  "language_info": {
   "codemirror_mode": {
    "name": "ipython",
    "version": 3
   },
   "file_extension": ".py",
   "mimetype": "text/x-python",
   "name": "python",
   "nbconvert_exporter": "python",
   "pygments_lexer": "ipython3",
   "version": "3.10.5"
  }
 },
 "nbformat": 4,
 "nbformat_minor": 5
}
